{
 "cells": [
  {
   "cell_type": "markdown",
   "metadata": {},
   "source": [
    "\n",
    "\n"
   ]
  },
  {
   "cell_type": "markdown",
   "metadata": {},
   "source": [
    "# Meta Prompting\n",
    "\n",
    "Meta prompting is an advanced technique in prompt engineering that emphasizes the structural and syntactical organization of tasks and problems rather than focusing on their specific content. The objective is to create a more abstract, form-driven way of engaging with large language models (LLMs), highlighting patterns and structure over traditional content-focused methods.\n",
    "\n",
    "As outlined by [Zhang et al. (2024)](https://arxiv.org/abs/2311.11482), the defining features of meta prompting include:\n",
    "\n",
    "* Structure-Oriented: Prioritizes the organization and pattern of problems and solutions instead of specific content.\n",
    "* Syntax-Guided: Leverages syntax as a template to shape the expected responses or solutions.\n",
    "* Abstract Frameworks: Uses abstract examples as blueprints, demonstrating the structure of tasks without relying on concrete details.\n",
    "* Domain Versatility: Can be applied across multiple fields, offering structured solutions to diverse problem types.\n",
    "* Categorical Approach: Draws on type theory to organize and categorize components logically, enhancing prompt coherence and precision."
   ]
  },
  {
   "cell_type": "markdown",
   "metadata": {},
   "source": [
    "## Running this code on MyBind.org\n",
    "\n",
    "Note: remember that you will need to **adjust CONFIG** with **proper URL and API_KEY**!\n",
    "\n",
    "[![Binder](https://mybinder.org/badge_logo.svg)](https://mybinder.org/v2/gh/GenILab-FAU/prompt-eng/HEAD?urlpath=%2Fdoc%2Ftree%2Fprompt-eng%2Fmeta.ipynb)\n",
    "\n"
   ]
  },
  {
   "cell_type": "code",
   "execution_count": null,
   "metadata": {},
   "outputs": [
    {
     "name": "stdout",
     "output_type": "stream",
     "text": [
      "{'model': 'llama3.2:latest', 'prompt': '\\n### Incorrect Example:\\n- Summing all numbers instead of only odd numbers.\\n- Example: 1 + 2 + 3 + 4 + ... + 200 = Incorrect.\\n\\n### Correct Example:\\n- Only sum odd numbers: 1, 3, 5, ..., 200.\\n- Use S = N² formula.\\n\\nNow, calculate and provide **only the final answer.**  \\n', 'stream': False, 'options': {'temperature': 0.7, 'num_ctx': 100, 'num_predict': 10}}\n",
      "100^2 = 10,000\n",
      "Time taken: 0.564s\n"
     ]
    }
   ],
   "source": [
    "##\n",
    "## CONTRASTIVE PROMPTING (FIXED)\n",
    "##\n",
    "\n",
    "from _pipeline import create_payload, model_req\n",
    "\n",
    "MESSAGE = \"200\"\n",
    "\n",
    "CONTRASTIVE_PROMPTING = \\\n",
    "f\"\"\"\n",
    "### Incorrect Example:\n",
    "- Summing all numbers instead of only odd numbers.\n",
    "- Example: 1 + 2 + 3 + 4 + ... + 200 = Incorrect.\n",
    "\n",
    "### Correct Example:\n",
    "- Only sum odd numbers: 1, 3, 5, ..., {MESSAGE}.\n",
    "- Use S = N² formula.\n",
    "\n",
    "Now, calculate and provide **only the final answer.**  \n",
    "\"\"\"\n",
    "\n",
    "PROMPT = CONTRASTIVE_PROMPTING \n",
    "\n",
    "payload = create_payload(target=\"ollama\",\n",
    "                         model=\"llama3.2:latest\", \n",
    "                         prompt=PROMPT, \n",
    "                         temperature=0.7,  \n",
    "                         num_ctx=100, \n",
    "                         num_predict=10)\n",
    "\n",
    "time, response = model_req(payload=payload)\n",
    "print(response)\n",
    "if time: print(f'Time taken: {time}s')\n"
   ]
  },
  {
   "cell_type": "markdown",
   "metadata": {},
   "source": []
  }
 ],
 "metadata": {
  "kernelspec": {
   "display_name": ".venv",
   "language": "python",
   "name": "python3"
  },
  "language_info": {
   "codemirror_mode": {
    "name": "ipython",
    "version": 3
   },
   "file_extension": ".py",
   "mimetype": "text/x-python",
   "name": "python",
   "nbconvert_exporter": "python",
   "pygments_lexer": "ipython3",
   "version": "3.13.0"
  }
 },
 "nbformat": 4,
 "nbformat_minor": 2
}
